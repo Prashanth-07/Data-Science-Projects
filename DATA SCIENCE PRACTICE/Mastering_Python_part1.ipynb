{
 "cells": [
  {
   "cell_type": "markdown",
   "id": "fb0b5836",
   "metadata": {},
   "source": [
    "# PYTHON TUTORIAL"
   ]
  },
  {
   "cell_type": "markdown",
   "id": "3bd2ba1e",
   "metadata": {},
   "source": [
    "FIRST PROGRAM"
   ]
  },
  {
   "cell_type": "code",
   "execution_count": 1,
   "id": "ca39a913",
   "metadata": {},
   "outputs": [
    {
     "name": "stdout",
     "output_type": "stream",
     "text": [
      "hellow world\n"
     ]
    }
   ],
   "source": [
    "print(\"hellow world\")"
   ]
  },
  {
   "cell_type": "markdown",
   "id": "9779c174",
   "metadata": {},
   "source": [
    "# VARIABLES"
   ]
  },
  {
   "cell_type": "code",
   "execution_count": 3,
   "id": "888e8590",
   "metadata": {},
   "outputs": [],
   "source": [
    "x=3"
   ]
  },
  {
   "cell_type": "code",
   "execution_count": 4,
   "id": "aaa7ab0e",
   "metadata": {},
   "outputs": [
    {
     "name": "stdout",
     "output_type": "stream",
     "text": [
      "Variable   Type    Data/Info\n",
      "----------------------------\n",
      "x          int     3\n"
     ]
    }
   ],
   "source": [
    "%whos"
   ]
  },
  {
   "cell_type": "code",
   "execution_count": 5,
   "id": "fdbe7030",
   "metadata": {},
   "outputs": [
    {
     "name": "stdout",
     "output_type": "stream",
     "text": [
      "<class 'int'>\n"
     ]
    }
   ],
   "source": [
    "print(type(x))"
   ]
  },
  {
   "cell_type": "code",
   "execution_count": 6,
   "id": "89fcdbad",
   "metadata": {},
   "outputs": [],
   "source": [
    "x=5.7"
   ]
  },
  {
   "cell_type": "code",
   "execution_count": 7,
   "id": "f29a0256",
   "metadata": {},
   "outputs": [
    {
     "name": "stdout",
     "output_type": "stream",
     "text": [
      "Variable   Type     Data/Info\n",
      "-----------------------------\n",
      "x          float    5.7\n"
     ]
    }
   ],
   "source": [
    "%whos\n"
   ]
  },
  {
   "cell_type": "code",
   "execution_count": 8,
   "id": "0be79653",
   "metadata": {},
   "outputs": [
    {
     "name": "stdout",
     "output_type": "stream",
     "text": [
      "<class 'float'>\n"
     ]
    }
   ],
   "source": [
    "print(type(x))"
   ]
  },
  {
   "cell_type": "code",
   "execution_count": 9,
   "id": "63639d2c",
   "metadata": {},
   "outputs": [],
   "source": [
    "abcd=12.63"
   ]
  },
  {
   "cell_type": "code",
   "execution_count": 10,
   "id": "eaa7472f",
   "metadata": {},
   "outputs": [
    {
     "name": "stdout",
     "output_type": "stream",
     "text": [
      "Variable   Type     Data/Info\n",
      "-----------------------------\n",
      "abcd       float    12.63\n",
      "x          float    5.7\n"
     ]
    }
   ],
   "source": [
    "%whos\n"
   ]
  },
  {
   "cell_type": "code",
   "execution_count": 13,
   "id": "5bd57fd1",
   "metadata": {},
   "outputs": [],
   "source": [
    "a,b,c,d=5,4.0,3,2"
   ]
  },
  {
   "cell_type": "code",
   "execution_count": 14,
   "id": "37feeeae",
   "metadata": {},
   "outputs": [
    {
     "name": "stdout",
     "output_type": "stream",
     "text": [
      "Variable   Type     Data/Info\n",
      "-----------------------------\n",
      "a          int      5\n",
      "abcd       float    12.63\n",
      "b          float    4.0\n",
      "c          int      3\n",
      "d          int      2\n",
      "x          float    5.7\n"
     ]
    }
   ],
   "source": [
    "%whos"
   ]
  },
  {
   "cell_type": "code",
   "execution_count": 15,
   "id": "71bcc405",
   "metadata": {},
   "outputs": [],
   "source": [
    "del abcd"
   ]
  },
  {
   "cell_type": "code",
   "execution_count": 16,
   "id": "b9609320",
   "metadata": {},
   "outputs": [
    {
     "name": "stdout",
     "output_type": "stream",
     "text": [
      "Variable   Type     Data/Info\n",
      "-----------------------------\n",
      "a          int      5\n",
      "b          float    4.0\n",
      "c          int      3\n",
      "d          int      2\n",
      "x          float    5.7\n"
     ]
    }
   ],
   "source": [
    "%whos"
   ]
  },
  {
   "cell_type": "code",
   "execution_count": 17,
   "id": "0f199653",
   "metadata": {},
   "outputs": [
    {
     "ename": "NameError",
     "evalue": "name 'abcd' is not defined",
     "output_type": "error",
     "traceback": [
      "\u001b[1;31m---------------------------------------------------------------------------\u001b[0m",
      "\u001b[1;31mNameError\u001b[0m                                 Traceback (most recent call last)",
      "\u001b[1;32m~\\AppData\\Local\\Temp\\ipykernel_13848\\224357748.py\u001b[0m in \u001b[0;36m<module>\u001b[1;34m\u001b[0m\n\u001b[1;32m----> 1\u001b[1;33m \u001b[0mprint\u001b[0m\u001b[1;33m(\u001b[0m\u001b[0mabcd\u001b[0m\u001b[1;33m)\u001b[0m\u001b[1;33m\u001b[0m\u001b[1;33m\u001b[0m\u001b[0m\n\u001b[0m",
      "\u001b[1;31mNameError\u001b[0m: name 'abcd' is not defined"
     ]
    }
   ],
   "source": [
    "print(abcd)"
   ]
  },
  {
   "cell_type": "markdown",
   "id": "981dece9",
   "metadata": {},
   "source": [
    "# %whos - to check memory\n",
    "# del - to delete variable\n",
    "# print(type()) - to get type of the variable"
   ]
  },
  {
   "cell_type": "code",
   "execution_count": 18,
   "id": "1a0b07e2",
   "metadata": {},
   "outputs": [],
   "source": [
    "c=c+4j"
   ]
  },
  {
   "cell_type": "code",
   "execution_count": 19,
   "id": "273ce3e8",
   "metadata": {},
   "outputs": [
    {
     "name": "stdout",
     "output_type": "stream",
     "text": [
      "Variable   Type       Data/Info\n",
      "-------------------------------\n",
      "a          int        5\n",
      "b          float      4.0\n",
      "c          complex    (3+4j)\n",
      "d          int        2\n",
      "x          float      5.7\n"
     ]
    }
   ],
   "source": [
    "%whos\n"
   ]
  },
  {
   "cell_type": "code",
   "execution_count": 20,
   "id": "630953ef",
   "metadata": {},
   "outputs": [
    {
     "name": "stdout",
     "output_type": "stream",
     "text": [
      "<class 'complex'>\n"
     ]
    }
   ],
   "source": [
    "print(type(c))"
   ]
  },
  {
   "cell_type": "markdown",
   "id": "719d6886",
   "metadata": {},
   "source": [
    "# Operators"
   ]
  },
  {
   "cell_type": "code",
   "execution_count": 21,
   "id": "2263cfa5",
   "metadata": {},
   "outputs": [
    {
     "name": "stdout",
     "output_type": "stream",
     "text": [
      "Variable   Type       Data/Info\n",
      "-------------------------------\n",
      "a          int        5\n",
      "b          float      4.0\n",
      "c          complex    (3+4j)\n",
      "d          int        2\n",
      "x          float      5.7\n"
     ]
    }
   ],
   "source": [
    "%whos"
   ]
  },
  {
   "cell_type": "code",
   "execution_count": 22,
   "id": "144eeeca",
   "metadata": {},
   "outputs": [],
   "source": [
    "SumOfaAndb = a+b "
   ]
  },
  {
   "cell_type": "code",
   "execution_count": 23,
   "id": "eb62a13b",
   "metadata": {},
   "outputs": [
    {
     "name": "stdout",
     "output_type": "stream",
     "text": [
      "9.0\n"
     ]
    }
   ],
   "source": [
    "print(SumOfaAndb)"
   ]
  },
  {
   "cell_type": "code",
   "execution_count": 24,
   "id": "3bf4ae9e",
   "metadata": {},
   "outputs": [
    {
     "data": {
      "text/plain": [
       "float"
      ]
     },
     "execution_count": 24,
     "metadata": {},
     "output_type": "execute_result"
    }
   ],
   "source": [
    "type(SumOfaAndb)"
   ]
  },
  {
   "cell_type": "code",
   "execution_count": 25,
   "id": "7894511f",
   "metadata": {},
   "outputs": [
    {
     "data": {
      "text/plain": [
       "int"
      ]
     },
     "execution_count": 25,
     "metadata": {},
     "output_type": "execute_result"
    }
   ],
   "source": [
    "type(a+d)"
   ]
  },
  {
   "cell_type": "code",
   "execution_count": 27,
   "id": "0cbbf9e4",
   "metadata": {},
   "outputs": [
    {
     "data": {
      "text/plain": [
       "float"
      ]
     },
     "execution_count": 27,
     "metadata": {},
     "output_type": "execute_result"
    }
   ],
   "source": [
    "type(a+b) #int + flot will be floating point number coz float always have upperhand in datatypes"
   ]
  },
  {
   "cell_type": "code",
   "execution_count": 28,
   "id": "0c17d02a",
   "metadata": {},
   "outputs": [],
   "source": [
    "v=((a+d)**3)/4"
   ]
  },
  {
   "cell_type": "code",
   "execution_count": 29,
   "id": "933711b0",
   "metadata": {},
   "outputs": [
    {
     "name": "stdout",
     "output_type": "stream",
     "text": [
      "85.75\n"
     ]
    }
   ],
   "source": [
    "print(v)"
   ]
  },
  {
   "cell_type": "code",
   "execution_count": 30,
   "id": "2c358bfc",
   "metadata": {},
   "outputs": [
    {
     "name": "stdout",
     "output_type": "stream",
     "text": [
      "hellowworld\n"
     ]
    }
   ],
   "source": [
    "s1=\"hellow\"\n",
    "s2=\"world\"\n",
    "s=s1+s2\n",
    "print(s)"
   ]
  },
  {
   "cell_type": "code",
   "execution_count": 31,
   "id": "1395d566",
   "metadata": {},
   "outputs": [
    {
     "data": {
      "text/plain": [
       "3"
      ]
     },
     "execution_count": 31,
     "metadata": {},
     "output_type": "execute_result"
    }
   ],
   "source": [
    "10//3"
   ]
  },
  {
   "cell_type": "code",
   "execution_count": 32,
   "id": "a7d1c8ba",
   "metadata": {},
   "outputs": [
    {
     "data": {
      "text/plain": [
       "3.3333333333333335"
      ]
     },
     "execution_count": 32,
     "metadata": {},
     "output_type": "execute_result"
    }
   ],
   "source": [
    "10/3 # if we dont store result in a variable then the value is stored in \"_\" but stored only the last value"
   ]
  },
  {
   "cell_type": "code",
   "execution_count": 33,
   "id": "783daa41",
   "metadata": {},
   "outputs": [
    {
     "data": {
      "text/plain": [
       "3.3333333333333335"
      ]
     },
     "execution_count": 33,
     "metadata": {},
     "output_type": "execute_result"
    }
   ],
   "source": [
    "_\n"
   ]
  },
  {
   "cell_type": "markdown",
   "id": "741a525a",
   "metadata": {},
   "source": [
    "variable cannot start with digit and other special characters exept \"_\""
   ]
  },
  {
   "cell_type": "code",
   "execution_count": 34,
   "id": "7920c173",
   "metadata": {},
   "outputs": [
    {
     "ename": "SyntaxError",
     "evalue": "invalid syntax (2695640289.py, line 1)",
     "output_type": "error",
     "traceback": [
      "\u001b[1;36m  File \u001b[1;32m\"C:\\Users\\admin\\AppData\\Local\\Temp\\ipykernel_13848\\2695640289.py\"\u001b[1;36m, line \u001b[1;32m1\u001b[0m\n\u001b[1;33m    3x=5\u001b[0m\n\u001b[1;37m     ^\u001b[0m\n\u001b[1;31mSyntaxError\u001b[0m\u001b[1;31m:\u001b[0m invalid syntax\n"
     ]
    }
   ],
   "source": [
    "3x=5"
   ]
  },
  {
   "cell_type": "code",
   "execution_count": 35,
   "id": "8b7ae6ca",
   "metadata": {},
   "outputs": [
    {
     "ename": "SyntaxError",
     "evalue": "invalid syntax (943345821.py, line 1)",
     "output_type": "error",
     "traceback": [
      "\u001b[1;36m  File \u001b[1;32m\"C:\\Users\\admin\\AppData\\Local\\Temp\\ipykernel_13848\\943345821.py\"\u001b[1;36m, line \u001b[1;32m1\u001b[0m\n\u001b[1;33m    @y=4\u001b[0m\n\u001b[1;37m      ^\u001b[0m\n\u001b[1;31mSyntaxError\u001b[0m\u001b[1;31m:\u001b[0m invalid syntax\n"
     ]
    }
   ],
   "source": [
    "@y=4"
   ]
  },
  {
   "cell_type": "code",
   "execution_count": 36,
   "id": "d65fe131",
   "metadata": {},
   "outputs": [
    {
     "ename": "SyntaxError",
     "evalue": "starred assignment target must be in a list or tuple (3049411657.py, line 1)",
     "output_type": "error",
     "traceback": [
      "\u001b[1;36m  File \u001b[1;32m\"C:\\Users\\admin\\AppData\\Local\\Temp\\ipykernel_13848\\3049411657.py\"\u001b[1;36m, line \u001b[1;32m1\u001b[0m\n\u001b[1;33m    *t=1\u001b[0m\n\u001b[1;37m    ^\u001b[0m\n\u001b[1;31mSyntaxError\u001b[0m\u001b[1;31m:\u001b[0m starred assignment target must be in a list or tuple\n"
     ]
    }
   ],
   "source": [
    "*t=1"
   ]
  },
  {
   "cell_type": "code",
   "execution_count": 40,
   "id": "461075f7",
   "metadata": {},
   "outputs": [],
   "source": [
    "_e=6   # _ is allowed to start with to assign as a variable "
   ]
  },
  {
   "cell_type": "code",
   "execution_count": 38,
   "id": "3e8eeac6",
   "metadata": {},
   "outputs": [
    {
     "name": "stdout",
     "output_type": "stream",
     "text": [
      "6\n"
     ]
    }
   ],
   "source": [
    "print(_e)"
   ]
  },
  {
   "cell_type": "markdown",
   "id": "03add78e",
   "metadata": {},
   "source": [
    "camel notation is starting wordd with capital example : HiHelloNamasthe"
   ]
  },
  {
   "cell_type": "code",
   "execution_count": 41,
   "id": "f9335743",
   "metadata": {},
   "outputs": [],
   "source": [
    "HiJupyter = 2.0"
   ]
  },
  {
   "cell_type": "code",
   "execution_count": 42,
   "id": "d5db57ad",
   "metadata": {},
   "outputs": [
    {
     "name": "stdout",
     "output_type": "stream",
     "text": [
      "Variable     Type       Data/Info\n",
      "---------------------------------\n",
      "HiJupyter    float      2.0\n",
      "SumOfaAndb   float      9.0\n",
      "a            int        5\n",
      "b            float      4.0\n",
      "c            complex    (3+4j)\n",
      "d            int        2\n",
      "s            str        hellowworld\n",
      "s1           str        hellow\n",
      "s2           str        world\n",
      "v            float      85.75\n",
      "x            float      5.7\n"
     ]
    }
   ],
   "source": [
    "%whos"
   ]
  },
  {
   "cell_type": "markdown",
   "id": "100357b4",
   "metadata": {},
   "source": [
    "# Bool"
   ]
  },
  {
   "cell_type": "code",
   "execution_count": 43,
   "id": "6a2e6f74",
   "metadata": {},
   "outputs": [],
   "source": [
    "a=True\n",
    "b=True\n",
    "c=False"
   ]
  },
  {
   "cell_type": "code",
   "execution_count": 44,
   "id": "5c32a740",
   "metadata": {},
   "outputs": [
    {
     "name": "stdout",
     "output_type": "stream",
     "text": [
      "Variable     Type     Data/Info\n",
      "-------------------------------\n",
      "HiJupyter    float    2.0\n",
      "SumOfaAndb   float    9.0\n",
      "a            bool     True\n",
      "b            bool     True\n",
      "c            bool     False\n",
      "d            int      2\n",
      "s            str      hellowworld\n",
      "s1           str      hellow\n",
      "s2           str      world\n",
      "v            float    85.75\n",
      "x            float    5.7\n"
     ]
    }
   ],
   "source": [
    "%whos"
   ]
  },
  {
   "cell_type": "code",
   "execution_count": 45,
   "id": "6eab465a",
   "metadata": {},
   "outputs": [
    {
     "ename": "NameError",
     "evalue": "name 'B' is not defined",
     "output_type": "error",
     "traceback": [
      "\u001b[1;31m---------------------------------------------------------------------------\u001b[0m",
      "\u001b[1;31mNameError\u001b[0m                                 Traceback (most recent call last)",
      "\u001b[1;32m~\\AppData\\Local\\Temp\\ipykernel_13848\\3730506223.py\u001b[0m in \u001b[0;36m<module>\u001b[1;34m\u001b[0m\n\u001b[1;32m----> 1\u001b[1;33m \u001b[0mprint\u001b[0m\u001b[1;33m(\u001b[0m\u001b[0ma\u001b[0m \u001b[1;32mand\u001b[0m \u001b[0mB\u001b[0m\u001b[1;33m)\u001b[0m\u001b[1;33m\u001b[0m\u001b[1;33m\u001b[0m\u001b[0m\n\u001b[0m",
      "\u001b[1;31mNameError\u001b[0m: name 'B' is not defined"
     ]
    }
   ],
   "source": [
    "print(a and B)"
   ]
  },
  {
   "cell_type": "code",
   "execution_count": 46,
   "id": "ea50a706",
   "metadata": {},
   "outputs": [
    {
     "name": "stdout",
     "output_type": "stream",
     "text": [
      "False\n",
      "True\n",
      "False\n"
     ]
    }
   ],
   "source": [
    "print(a and c)\n",
    "print(a and b)\n",
    "print(c and a)"
   ]
  },
  {
   "cell_type": "code",
   "execution_count": 47,
   "id": "fee3d9be",
   "metadata": {},
   "outputs": [
    {
     "name": "stdout",
     "output_type": "stream",
     "text": [
      "True\n"
     ]
    }
   ],
   "source": [
    "d= a or c\n",
    "print(d)"
   ]
  },
  {
   "cell_type": "code",
   "execution_count": 48,
   "id": "4e295e0d",
   "metadata": {},
   "outputs": [
    {
     "data": {
      "text/plain": [
       "False"
      ]
     },
     "execution_count": 48,
     "metadata": {},
     "output_type": "execute_result"
    }
   ],
   "source": [
    "not(a)"
   ]
  },
  {
   "cell_type": "code",
   "execution_count": 49,
   "id": "f8bd8f59",
   "metadata": {},
   "outputs": [
    {
     "data": {
      "text/plain": [
       "False"
      ]
     },
     "execution_count": 49,
     "metadata": {},
     "output_type": "execute_result"
    }
   ],
   "source": [
    "not(b)"
   ]
  },
  {
   "cell_type": "code",
   "execution_count": 50,
   "id": "9e4707d4",
   "metadata": {},
   "outputs": [
    {
     "data": {
      "text/plain": [
       "True"
      ]
     },
     "execution_count": 50,
     "metadata": {},
     "output_type": "execute_result"
    }
   ],
   "source": [
    "not(c)"
   ]
  },
  {
   "cell_type": "code",
   "execution_count": 51,
   "id": "67fff0b3",
   "metadata": {},
   "outputs": [
    {
     "data": {
      "text/plain": [
       "False"
      ]
     },
     "execution_count": 51,
     "metadata": {},
     "output_type": "execute_result"
    }
   ],
   "source": [
    "not(d)"
   ]
  },
  {
   "cell_type": "code",
   "execution_count": 52,
   "id": "7a76f5cb",
   "metadata": {},
   "outputs": [],
   "source": [
    "e=not((a and b) or (c and d))"
   ]
  },
  {
   "cell_type": "code",
   "execution_count": 53,
   "id": "967ff894",
   "metadata": {},
   "outputs": [
    {
     "name": "stdout",
     "output_type": "stream",
     "text": [
      "False\n"
     ]
    }
   ],
   "source": [
    "print(e)"
   ]
  },
  {
   "cell_type": "markdown",
   "id": "414e404b",
   "metadata": {},
   "source": [
    "# Comparisons"
   ]
  },
  {
   "cell_type": "code",
   "execution_count": 54,
   "id": "b8d7fccc",
   "metadata": {},
   "outputs": [
    {
     "name": "stdout",
     "output_type": "stream",
     "text": [
      "True\n"
     ]
    }
   ],
   "source": [
    "print(2<3)"
   ]
  },
  {
   "cell_type": "code",
   "execution_count": 55,
   "id": "463f529f",
   "metadata": {},
   "outputs": [],
   "source": [
    "c=2<3"
   ]
  },
  {
   "cell_type": "code",
   "execution_count": 56,
   "id": "951b26aa",
   "metadata": {},
   "outputs": [
    {
     "data": {
      "text/plain": [
       "bool"
      ]
     },
     "execution_count": 56,
     "metadata": {},
     "output_type": "execute_result"
    }
   ],
   "source": [
    "type(c)"
   ]
  },
  {
   "cell_type": "code",
   "execution_count": 57,
   "id": "dcfe1210",
   "metadata": {},
   "outputs": [
    {
     "name": "stdout",
     "output_type": "stream",
     "text": [
      "True\n"
     ]
    }
   ],
   "source": [
    "print(c)"
   ]
  },
  {
   "cell_type": "code",
   "execution_count": 59,
   "id": "c23a1503",
   "metadata": {},
   "outputs": [],
   "source": [
    "d=3==4"
   ]
  },
  {
   "cell_type": "code",
   "execution_count": 60,
   "id": "ccf5b248",
   "metadata": {},
   "outputs": [
    {
     "name": "stdout",
     "output_type": "stream",
     "text": [
      "<class 'bool'>\n",
      "False\n"
     ]
    }
   ],
   "source": [
    "print(type(d))\n",
    "print(d)"
   ]
  },
  {
   "cell_type": "code",
   "execution_count": 61,
   "id": "a18575fc",
   "metadata": {},
   "outputs": [
    {
     "data": {
      "text/plain": [
       "True"
      ]
     },
     "execution_count": 61,
     "metadata": {},
     "output_type": "execute_result"
    }
   ],
   "source": [
    "3==3.0 # comparison takes place discarding the decimal position"
   ]
  },
  {
   "cell_type": "code",
   "execution_count": 62,
   "id": "3824d05c",
   "metadata": {},
   "outputs": [
    {
     "data": {
      "text/plain": [
       "True"
      ]
     },
     "execution_count": 62,
     "metadata": {},
     "output_type": "execute_result"
    }
   ],
   "source": [
    "3<3.2"
   ]
  },
  {
   "cell_type": "code",
   "execution_count": 63,
   "id": "d27d747d",
   "metadata": {},
   "outputs": [],
   "source": [
    "x=4\n",
    "y=9\n",
    "z=8.3\n",
    "r=-3"
   ]
  },
  {
   "cell_type": "code",
   "execution_count": 64,
   "id": "83194861",
   "metadata": {},
   "outputs": [],
   "source": [
    "z=(x<y) and (z<y) or (r==x)"
   ]
  },
  {
   "cell_type": "code",
   "execution_count": 65,
   "id": "0aeadd17",
   "metadata": {},
   "outputs": [
    {
     "name": "stdout",
     "output_type": "stream",
     "text": [
      "True\n",
      "<class 'bool'>\n"
     ]
    }
   ],
   "source": [
    "print(z)\n",
    "print(type(z))"
   ]
  },
  {
   "cell_type": "markdown",
   "id": "637a46e0",
   "metadata": {},
   "source": [
    "# AND is precedence over OR i.e always and will be executed first "
   ]
  },
  {
   "cell_type": "code",
   "execution_count": 1,
   "id": "a3371233",
   "metadata": {},
   "outputs": [
    {
     "name": "stdout",
     "output_type": "stream",
     "text": [
      "False\n"
     ]
    }
   ],
   "source": [
    "print((not(2!=3) and True) or (False and True))"
   ]
  },
  {
   "cell_type": "markdown",
   "id": "06972d26",
   "metadata": {},
   "source": [
    "# Round"
   ]
  },
  {
   "cell_type": "code",
   "execution_count": 2,
   "id": "d117eb99",
   "metadata": {},
   "outputs": [
    {
     "name": "stdout",
     "output_type": "stream",
     "text": [
      "5\n"
     ]
    }
   ],
   "source": [
    "print(round(4.556))"
   ]
  },
  {
   "cell_type": "code",
   "execution_count": 3,
   "id": "3f3fe82f",
   "metadata": {},
   "outputs": [
    {
     "name": "stdout",
     "output_type": "stream",
     "text": [
      "4\n"
     ]
    }
   ],
   "source": [
    "print(round(4.5))"
   ]
  },
  {
   "cell_type": "code",
   "execution_count": 8,
   "id": "ed2ff2c1",
   "metadata": {},
   "outputs": [
    {
     "name": "stdout",
     "output_type": "stream",
     "text": [
      "4.557\n"
     ]
    }
   ],
   "source": [
    "print(round(4.55673,3)) # here the rounding is based on the next digit after 5 i.e the next digit is bigger than the present digit"
   ]
  },
  {
   "cell_type": "markdown",
   "id": "73b4f723",
   "metadata": {},
   "source": [
    "# divmod"
   ]
  },
  {
   "cell_type": "code",
   "execution_count": 9,
   "id": "685024d9",
   "metadata": {},
   "outputs": [
    {
     "data": {
      "text/plain": [
       "(2, 2)"
      ]
     },
     "execution_count": 9,
     "metadata": {},
     "output_type": "execute_result"
    }
   ],
   "source": [
    "divmod(22,10)"
   ]
  },
  {
   "cell_type": "code",
   "execution_count": 10,
   "id": "4ba56306",
   "metadata": {},
   "outputs": [],
   "source": [
    "g= divmod(34,9)"
   ]
  },
  {
   "cell_type": "code",
   "execution_count": 11,
   "id": "9d5bc98e",
   "metadata": {},
   "outputs": [
    {
     "name": "stdout",
     "output_type": "stream",
     "text": [
      "(3, 7)\n"
     ]
    }
   ],
   "source": [
    "print(g)"
   ]
  },
  {
   "cell_type": "code",
   "execution_count": 12,
   "id": "9032b3b6",
   "metadata": {},
   "outputs": [
    {
     "data": {
      "text/plain": [
       "tuple"
      ]
     },
     "execution_count": 12,
     "metadata": {},
     "output_type": "execute_result"
    }
   ],
   "source": [
    "type(g)"
   ]
  },
  {
   "cell_type": "code",
   "execution_count": 15,
   "id": "c129b4dd",
   "metadata": {},
   "outputs": [
    {
     "data": {
      "text/plain": [
       "3"
      ]
     },
     "execution_count": 15,
     "metadata": {},
     "output_type": "execute_result"
    }
   ],
   "source": [
    "g[0] # index of data"
   ]
  },
  {
   "cell_type": "code",
   "execution_count": 16,
   "id": "870b1982",
   "metadata": {},
   "outputs": [
    {
     "data": {
      "text/plain": [
       "7"
      ]
     },
     "execution_count": 16,
     "metadata": {},
     "output_type": "execute_result"
    }
   ],
   "source": [
    "g[1] #index"
   ]
  },
  {
   "cell_type": "code",
   "execution_count": 17,
   "id": "8ff59329",
   "metadata": {},
   "outputs": [
    {
     "name": "stdout",
     "output_type": "stream",
     "text": [
      "3 7\n"
     ]
    }
   ],
   "source": [
    "e=34//9\n",
    "y=34%9\n",
    "print(e,y)"
   ]
  },
  {
   "cell_type": "markdown",
   "id": "32de3046",
   "metadata": {},
   "source": [
    "# isinstance()"
   ]
  },
  {
   "cell_type": "markdown",
   "id": "6e80c31e",
   "metadata": {},
   "source": [
    "checks whether given number is an particular type or not"
   ]
  },
  {
   "cell_type": "code",
   "execution_count": 18,
   "id": "6ff08da0",
   "metadata": {},
   "outputs": [
    {
     "data": {
      "text/plain": [
       "False"
      ]
     },
     "execution_count": 18,
     "metadata": {},
     "output_type": "execute_result"
    }
   ],
   "source": [
    "isinstance(3.4,int)"
   ]
  },
  {
   "cell_type": "code",
   "execution_count": 19,
   "id": "c6df8f32",
   "metadata": {},
   "outputs": [
    {
     "data": {
      "text/plain": [
       "True"
      ]
     },
     "execution_count": 19,
     "metadata": {},
     "output_type": "execute_result"
    }
   ],
   "source": [
    "isinstance(3,int)"
   ]
  },
  {
   "cell_type": "code",
   "execution_count": 21,
   "id": "11d68271",
   "metadata": {},
   "outputs": [
    {
     "data": {
      "text/plain": [
       "True"
      ]
     },
     "execution_count": 21,
     "metadata": {},
     "output_type": "execute_result"
    }
   ],
   "source": [
    "isinstance(3.4,(int,float))"
   ]
  },
  {
   "cell_type": "code",
   "execution_count": 23,
   "id": "0716361e",
   "metadata": {},
   "outputs": [
    {
     "data": {
      "text/plain": [
       "True"
      ]
     },
     "execution_count": 23,
     "metadata": {},
     "output_type": "execute_result"
    }
   ],
   "source": [
    "isinstance(3+2j,(int,float,str,complex))"
   ]
  },
  {
   "cell_type": "markdown",
   "id": "c7baf085",
   "metadata": {},
   "source": [
    "# power\n"
   ]
  },
  {
   "cell_type": "code",
   "execution_count": 24,
   "id": "33c9b881",
   "metadata": {},
   "outputs": [
    {
     "data": {
      "text/plain": [
       "8"
      ]
     },
     "execution_count": 24,
     "metadata": {},
     "output_type": "execute_result"
    }
   ],
   "source": [
    "pow(2,3)"
   ]
  },
  {
   "cell_type": "code",
   "execution_count": 25,
   "id": "bdc1d17a",
   "metadata": {},
   "outputs": [
    {
     "data": {
      "text/plain": [
       "8"
      ]
     },
     "execution_count": 25,
     "metadata": {},
     "output_type": "execute_result"
    }
   ],
   "source": [
    "2**3"
   ]
  },
  {
   "cell_type": "code",
   "execution_count": 26,
   "id": "597c3712",
   "metadata": {},
   "outputs": [
    {
     "data": {
      "text/plain": [
       "2"
      ]
     },
     "execution_count": 26,
     "metadata": {},
     "output_type": "execute_result"
    }
   ],
   "source": [
    "pow(2,4,7)"
   ]
  },
  {
   "cell_type": "code",
   "execution_count": 30,
   "id": "606aaada",
   "metadata": {},
   "outputs": [
    {
     "name": "stdout",
     "output_type": "stream",
     "text": [
      "enter a number :34\n"
     ]
    }
   ],
   "source": [
    "x = input(\"enter a number :\")"
   ]
  },
  {
   "cell_type": "code",
   "execution_count": 38,
   "id": "2f0a5808",
   "metadata": {},
   "outputs": [
    {
     "data": {
      "text/plain": [
       "int"
      ]
     },
     "execution_count": 38,
     "metadata": {},
     "output_type": "execute_result"
    }
   ],
   "source": [
    "type(x) # by default input variable is taken as a string"
   ]
  },
  {
   "cell_type": "code",
   "execution_count": 33,
   "id": "1e0099a0",
   "metadata": {},
   "outputs": [],
   "source": [
    "x=int(x) # converts to integer"
   ]
  },
  {
   "cell_type": "code",
   "execution_count": 34,
   "id": "f4f0156a",
   "metadata": {},
   "outputs": [
    {
     "data": {
      "text/plain": [
       "int"
      ]
     },
     "execution_count": 34,
     "metadata": {},
     "output_type": "execute_result"
    }
   ],
   "source": [
    "type(x)"
   ]
  },
  {
   "cell_type": "code",
   "execution_count": 35,
   "id": "6acbf69c",
   "metadata": {},
   "outputs": [
    {
     "name": "stdout",
     "output_type": "stream",
     "text": [
      "22\n"
     ]
    }
   ],
   "source": [
    "print(x-12)"
   ]
  },
  {
   "cell_type": "code",
   "execution_count": 36,
   "id": "cdff98c2",
   "metadata": {},
   "outputs": [
    {
     "name": "stdout",
     "output_type": "stream",
     "text": [
      "enter a real number : 2.3\n"
     ]
    }
   ],
   "source": [
    "a= float(input(\"enter a real number : \"))"
   ]
  },
  {
   "cell_type": "code",
   "execution_count": 37,
   "id": "59c6d128",
   "metadata": {},
   "outputs": [
    {
     "data": {
      "text/plain": [
       "float"
      ]
     },
     "execution_count": 37,
     "metadata": {},
     "output_type": "execute_result"
    }
   ],
   "source": [
    "type(a)"
   ]
  },
  {
   "cell_type": "markdown",
   "id": "c81df9c3",
   "metadata": {},
   "source": [
    "# Control Flow"
   ]
  },
  {
   "cell_type": "code",
   "execution_count": 3,
   "id": "bc57fb1d",
   "metadata": {},
   "outputs": [
    {
     "name": "stdout",
     "output_type": "stream",
     "text": [
      "enter the a value : 23\n",
      "Enter the b value : 34\n",
      "34\n"
     ]
    }
   ],
   "source": [
    "a=int(input(\"enter the a value : \"))\n",
    "b=int(input(\"Enter the b value : \"))\n",
    "if a>b:\n",
    "    print(a)\n",
    "else:\n",
    "    print(b)"
   ]
  },
  {
   "cell_type": "code",
   "execution_count": 7,
   "id": "e430787c",
   "metadata": {},
   "outputs": [
    {
     "name": "stdout",
     "output_type": "stream",
     "text": [
      "enter a value : 45\n",
      "enter b value : 34\n",
      "45\n",
      "a is bigger\n"
     ]
    }
   ],
   "source": [
    "a = int(input(\"enter a value : \"))\n",
    "b = int(input(\"enter b value : \"))\n",
    "if a>b:\n",
    "    print(a)\n",
    "    print(\"a is bigger\")\n",
    "elif a==b:\n",
    "    print(\"both are equal\")\n",
    "else:\n",
    "    print(b)\n",
    "    print(\"b is bigger\")"
   ]
  },
  {
   "cell_type": "code",
   "execution_count": 8,
   "id": "d0036355",
   "metadata": {},
   "outputs": [
    {
     "name": "stdout",
     "output_type": "stream",
     "text": [
      "enter marks : 65\n",
      "Below Average\n"
     ]
    }
   ],
   "source": [
    "a = int(input(\"enter marks : \"))\n",
    "if a >= 85:\n",
    "    print(\"A Grade\")\n",
    "elif (a >= 80) and (a < 85):\n",
    "    print(\"A- Grade\")\n",
    "elif (a < 80) and (a >= 75):\n",
    "    print(\"B Grade\")\n",
    "elif (a < 75) and (a >= 70):\n",
    "    print(\"B- Grade\")\n",
    "else:\n",
    "    print(\"Below Average\")"
   ]
  },
  {
   "cell_type": "code",
   "execution_count": 9,
   "id": "2551b350",
   "metadata": {},
   "outputs": [
    {
     "name": "stdout",
     "output_type": "stream",
     "text": [
      "else part\n"
     ]
    }
   ],
   "source": [
    "a = 3\n",
    "if a>10:\n",
    "    print(\">10\")\n",
    "elif not (a>10):\n",
    "    print(\"else part\")"
   ]
  },
  {
   "cell_type": "markdown",
   "id": "29b3df8a",
   "metadata": {},
   "source": [
    "# Nested If"
   ]
  },
  {
   "cell_type": "code",
   "execution_count": 15,
   "id": "f6bcb4be",
   "metadata": {},
   "outputs": [
    {
     "name": "stdout",
     "output_type": "stream",
     "text": [
      "enter a number : 30\n",
      "number is > 10\n",
      "number is > 20\n",
      "<=30\n",
      "outside all ifs\n"
     ]
    }
   ],
   "source": [
    "x = int(input(\"enter a number : \"))\n",
    "if x>10:\n",
    "    print(\"number is > 10\")\n",
    "    if x > 20:\n",
    "        print(\"number is > 20\")\n",
    "        if a>30:\n",
    "            print(\">30\")\n",
    "        else:\n",
    "            print(\"<=30\")\n",
    "    else:\n",
    "        print(\"smaller or equal to 20\")\n",
    "print(\"outside all ifs\")\n",
    "        "
   ]
  },
  {
   "cell_type": "code",
   "execution_count": 27,
   "id": "8713aa29",
   "metadata": {},
   "outputs": [
    {
     "name": "stdout",
     "output_type": "stream",
     "text": [
      "enter a number : 4.3\n",
      "4\n",
      "Even\n"
     ]
    }
   ],
   "source": [
    "\"\"\"user enter a floating point number .your task is to find out the integer portion before the point and \n",
    "then check if that integer portion is an even number or not\"\"\"\n",
    "\n",
    "\n",
    "a = float(input(\"enter a number : \"))\n",
    "b= round(a) # remove the decimal point\n",
    "if a>0:\n",
    "    if b>a:\n",
    "        IntPortion = b-1\n",
    "    else:\n",
    "        IntPortion = b\n",
    "else:\n",
    "    if b<a:\n",
    "        IntPortion = b+1\n",
    "    else:\n",
    "        IntPortion = b\n",
    "print(IntPortion)\n",
    "    \n",
    "if IntPortion%2 == 0 :\n",
    "    print(\"Even\")\n",
    "else:\n",
    "    print(\"Odd\")\n",
    "    "
   ]
  },
  {
   "cell_type": "markdown",
   "id": "d11c999b",
   "metadata": {},
   "source": [
    "# loops"
   ]
  },
  {
   "cell_type": "code",
   "execution_count": 2,
   "id": "1d75eac2",
   "metadata": {},
   "outputs": [
    {
     "name": "stdout",
     "output_type": "stream",
     "text": [
      "5\n",
      "1\n",
      "this is iteration number :  1\n",
      "4\n",
      "this is iteration number :  2\n",
      "9\n",
      "this is iteration number :  3\n",
      "16\n",
      "this is iteration number :  4\n",
      "out of loop\n"
     ]
    }
   ],
   "source": [
    "n= int(input())\n",
    "i=1\n",
    "while (i<n):\n",
    "    print(i**2)\n",
    "    print(\"this is iteration number : \", i)\n",
    "    i+=1 # i=i+1\n",
    "print(\"out of loop\")\n",
    "    "
   ]
  },
  {
   "cell_type": "markdown",
   "id": "3f684155",
   "metadata": {},
   "source": [
    "IF INSIDE WHILE LOOP"
   ]
  },
  {
   "cell_type": "code",
   "execution_count": 4,
   "id": "aeda93dc",
   "metadata": {},
   "outputs": [
    {
     "name": "stdout",
     "output_type": "stream",
     "text": [
      "20\n",
      "10\n",
      "12\n",
      "14\n",
      "16\n",
      "18\n",
      "out of the loop\n"
     ]
    }
   ],
   "source": [
    "n=int(input())\n",
    "i=10\n",
    "while (i<n):\n",
    "    if i%2 == 0:\n",
    "        print(i)\n",
    "    else:\n",
    "        pass\n",
    "    i += 1\n",
    "print(\"out of the loop\")"
   ]
  },
  {
   "cell_type": "markdown",
   "id": "af27fbc6",
   "metadata": {},
   "source": [
    "# Break , Continue"
   ]
  },
  {
   "cell_type": "code",
   "execution_count": 6,
   "id": "0c30eee8",
   "metadata": {},
   "outputs": [
    {
     "name": "stdout",
     "output_type": "stream",
     "text": [
      "inside else\n",
      "inside else\n",
      "inside else\n",
      "inside else\n",
      "inside else\n",
      "inside else\n",
      "inside else\n",
      "inside else\n",
      "inside if\n",
      "loop done\n"
     ]
    }
   ],
   "source": [
    "n=10\n",
    "i=1\n",
    "while True:\n",
    "    if i%9 == 0:\n",
    "        print(\"inside if\")\n",
    "        break\n",
    "    else:\n",
    "        print(\"inside else\")\n",
    "        i = i+1 # i+=1\n",
    "print(\"loop done\")\n",
    "    "
   ]
  },
  {
   "cell_type": "code",
   "execution_count": 7,
   "id": "8f6c6960",
   "metadata": {},
   "outputs": [
    {
     "name": "stdout",
     "output_type": "stream",
     "text": [
      "inside if\n",
      "inside if\n",
      "inside if\n",
      "inside if\n",
      "inside if\n",
      "inside if\n",
      "inside if\n",
      "inside if\n",
      "something\n",
      "loop done\n"
     ]
    }
   ],
   "source": [
    "n=10\n",
    "i=1\n",
    "while True:\n",
    "    if i%9 != 0:\n",
    "        print(\"inside if\")\n",
    "        i+=1\n",
    "        continue\n",
    "    print(\"something\")\n",
    "    break\n",
    "print(\"loop done\")"
   ]
  },
  {
   "cell_type": "markdown",
   "id": "6b4e750c",
   "metadata": {},
   "source": [
    "# for loop"
   ]
  },
  {
   "cell_type": "code",
   "execution_count": 8,
   "id": "bbb06e9d",
   "metadata": {},
   "outputs": [
    {
     "name": "stdout",
     "output_type": "stream",
     "text": [
      "1\n",
      "2\n",
      "3\n",
      "4\n",
      "5\n",
      "6\n",
      "7\n",
      "8\n",
      "9\n",
      "10\n",
      "[0, 1, 4, 9, 16, 25, 36, 49, 64, 81]\n"
     ]
    }
   ],
   "source": [
    "L = []\n",
    "for i in range(10): #\"in \" is a keyword and range is a function\n",
    "    print(i+1)  # initiall\\y \"i\" will be 0\n",
    "    L.append(i**2)\n",
    "print(L)"
   ]
  },
  {
   "cell_type": "code",
   "execution_count": 10,
   "id": "0895597e",
   "metadata": {},
   "outputs": [
    {
     "name": "stdout",
     "output_type": "stream",
     "text": [
      "0\n",
      "2\n",
      "4\n",
      "6\n",
      "8\n",
      "[0, 4, 16, 36, 64]\n"
     ]
    }
   ],
   "source": [
    "L = []\n",
    "for i in range(0,10,2):  # 0 is start location end is 10 and 2 is where i takes jump of 2\n",
    "    print(i)  # initiall\\y \"i\" will be 0\n",
    "    L.append(i**2)\n",
    "print(L)"
   ]
  },
  {
   "cell_type": "markdown",
   "id": "246829c1",
   "metadata": {},
   "source": [
    "else with for loop"
   ]
  },
  {
   "cell_type": "code",
   "execution_count": 11,
   "id": "f3b0e8a2",
   "metadata": {},
   "outputs": [
    {
     "name": "stdout",
     "output_type": "stream",
     "text": [
      "apple\n",
      "3.4\n",
      "cheery\n",
      "all the iterations are complete and we are outside the loop\n"
     ]
    }
   ],
   "source": [
    "s = {\"apple\" , 3.4 ,\"cheery\" }\n",
    "for x in s:\n",
    "    print(x)\n",
    "else:\n",
    "    print(\"all the iterations are complete and we are outside the loop\")"
   ]
  },
  {
   "cell_type": "code",
   "execution_count": 14,
   "id": "b469348a",
   "metadata": {},
   "outputs": [
    {
     "name": "stdout",
     "output_type": "stream",
     "text": [
      "apple\n",
      "3.4\n",
      "outside the loop\n"
     ]
    }
   ],
   "source": [
    "s = {\"apple\" , 3.4 ,\"cheery\" }\n",
    "i=1\n",
    "for x in s:\n",
    "    print(x)\n",
    "    i+=1\n",
    "    if i == 3:\n",
    "        break\n",
    "    else:\n",
    "        pass\n",
    "else:\n",
    "    print(\"all the iterations are complete and we are outside the loop\")\n",
    "print(\"outside the loop\")"
   ]
  },
  {
   "cell_type": "code",
   "execution_count": 15,
   "id": "82836b2d",
   "metadata": {},
   "outputs": [
    {
     "name": "stdout",
     "output_type": "stream",
     "text": [
      "apple 44\n",
      "cherry game\n"
     ]
    }
   ],
   "source": [
    "d= {\"apple\":44, \"cherry\":\"game\"} # here apple is a key\n",
    "for x in d:\n",
    "    print(x,d[x])"
   ]
  },
  {
   "cell_type": "code",
   "execution_count": 17,
   "id": "812fcb70",
   "metadata": {},
   "outputs": [
    {
     "name": "stdout",
     "output_type": "stream",
     "text": [
      "A 10\n",
      "B -9\n",
      "C 79\n"
     ]
    }
   ],
   "source": [
    "d={\"A\":10,\"B\":-9,\"C\":79}\n",
    "for i in d:\n",
    "    print(i,d[i])"
   ]
  },
  {
   "cell_type": "code",
   "execution_count": 1,
   "id": "802958ad",
   "metadata": {},
   "outputs": [
    {
     "name": "stdout",
     "output_type": "stream",
     "text": [
      "[-5, 1, 2, 2, 3, 3, 7, 9]\n"
     ]
    }
   ],
   "source": [
    "\"\"\"given a list where we need to make another listr whihc we need to arrange items in sorted order.\"\"\"\n",
    "\n",
    "L = [1, 2, 3, -5, 7, 9, 3, 2]\n",
    "\n",
    "n = len(L)\n",
    "for i in range(n):\n",
    "    for j in range(0, n - i - 1):\n",
    "        if L[j] > L[j + 1]:\n",
    "            # Swap the elements\n",
    "            temp = L[j]\n",
    "            L[j] = L[j + 1]\n",
    "            L[j + 1] = temp\n",
    "\n",
    "print(L)\n"
   ]
  },
  {
   "cell_type": "code",
   "execution_count": 5,
   "id": "32f7ab70",
   "metadata": {},
   "outputs": [
    {
     "name": "stdout",
     "output_type": "stream",
     "text": [
      "[1, 2, 4, 5, 9]\n"
     ]
    }
   ],
   "source": [
    "numbers = [4, 2, 9, 1, 5]\n",
    "\n",
    "# Sort the list in ascending order\n",
    "sorted_numbers = sorted(numbers)\n",
    "\n",
    "print(sorted_numbers)\n"
   ]
  },
  {
   "cell_type": "markdown",
   "id": "8878d711",
   "metadata": {},
   "source": [
    "# Functions"
   ]
  },
  {
   "cell_type": "code",
   "execution_count": 2,
   "id": "e28869b2",
   "metadata": {},
   "outputs": [],
   "source": [
    "def printSuccess():\n",
    "    print(\"I am done\")\n",
    "    print(\"send me another task\") # reported into symbol table or simply it is saved"
   ]
  },
  {
   "cell_type": "code",
   "execution_count": 4,
   "id": "9e99675e",
   "metadata": {},
   "outputs": [
    {
     "name": "stdout",
     "output_type": "stream",
     "text": [
      "I am done\n",
      "send me another task\n"
     ]
    }
   ],
   "source": [
    "printSuccess()"
   ]
  },
  {
   "cell_type": "code",
   "execution_count": 6,
   "id": "a92de3c5",
   "metadata": {},
   "outputs": [],
   "source": [
    "def printSuccess2():\n",
    "    \"\"\"This function is doing nothing except printing a message.\n",
    "    that message is \"hellow\"\n",
    "    \"\"\"\n",
    "    print(\"hellow\")"
   ]
  },
  {
   "cell_type": "code",
   "execution_count": 7,
   "id": "19ec8f47",
   "metadata": {},
   "outputs": [],
   "source": [
    "printSuccess2?"
   ]
  },
  {
   "cell_type": "code",
   "execution_count": 8,
   "id": "a0856db6",
   "metadata": {},
   "outputs": [],
   "source": [
    "len?"
   ]
  },
  {
   "cell_type": "code",
   "execution_count": 9,
   "id": "7309b057",
   "metadata": {},
   "outputs": [
    {
     "name": "stdout",
     "output_type": "stream",
     "text": [
      "hellow\n"
     ]
    }
   ],
   "source": [
    "printSuccess2()"
   ]
  },
  {
   "cell_type": "markdown",
   "id": "70675de2",
   "metadata": {},
   "source": [
    "# input Arguments"
   ]
  },
  {
   "cell_type": "code",
   "execution_count": 15,
   "id": "bb7ce2c1",
   "metadata": {},
   "outputs": [],
   "source": [
    "def printMsg(msg):\n",
    "    \"\"\"the function prints the msg supplied by the user or prints that msg is not in the form of string\"\"\"\n",
    "    if isinstance(msg,str):\n",
    "        print(msg)\n",
    "    else:\n",
    "        print(\"input argument is not a string\")\n",
    "        print(\"here is the type what you have supplied : \",type(msg))"
   ]
  },
  {
   "cell_type": "code",
   "execution_count": 16,
   "id": "69bbdf51",
   "metadata": {},
   "outputs": [
    {
     "name": "stdout",
     "output_type": "stream",
     "text": [
      "input argument is not a string\n",
      "here is the type what you have supplied :  <class 'int'>\n"
     ]
    }
   ],
   "source": [
    "printMsg(23)"
   ]
  },
  {
   "cell_type": "code",
   "execution_count": 18,
   "id": "d9cac9c1",
   "metadata": {},
   "outputs": [
    {
     "name": "stdout",
     "output_type": "stream",
     "text": [
      "hellow\n"
     ]
    }
   ],
   "source": [
    "printMsg(\"hellow\")"
   ]
  },
  {
   "cell_type": "code",
   "execution_count": 19,
   "id": "084c753f",
   "metadata": {},
   "outputs": [],
   "source": [
    "def mypow(a,b):\n",
    "    \"\"\"this function computes power just like built in pow function\"\"\"\n",
    "    c = a**b\n",
    "    print(c)"
   ]
  },
  {
   "cell_type": "code",
   "execution_count": 21,
   "id": "c769ac92",
   "metadata": {},
   "outputs": [
    {
     "name": "stdout",
     "output_type": "stream",
     "text": [
      "81\n"
     ]
    }
   ],
   "source": [
    "mypow(3,4)\n"
   ]
  },
  {
   "cell_type": "code",
   "execution_count": 22,
   "id": "46714dca",
   "metadata": {},
   "outputs": [],
   "source": [
    "def checkArgs(a,b,c):\n",
    "    if isinstance(a,(int,float)) and isinstance(b,(int,float)) and isinstance(c,(int,float)):\n",
    "        print((a+b+c)**2)\n",
    "    else:\n",
    "        print(\"ERROR : input arguments are not of the expected types\")"
   ]
  },
  {
   "cell_type": "code",
   "execution_count": 23,
   "id": "e3748fb3",
   "metadata": {},
   "outputs": [
    {
     "name": "stdout",
     "output_type": "stream",
     "text": [
      "5041\n"
     ]
    }
   ],
   "source": [
    "checkArgs(23,3,45)"
   ]
  },
  {
   "cell_type": "code",
   "execution_count": 24,
   "id": "be684ede",
   "metadata": {},
   "outputs": [
    {
     "name": "stdout",
     "output_type": "stream",
     "text": [
      "ERROR : input arguments are not of the expected types\n"
     ]
    }
   ],
   "source": [
    "checkArgs(2,3,\"gud\")"
   ]
  },
  {
   "cell_type": "code",
   "execution_count": 25,
   "id": "e1728cc4",
   "metadata": {},
   "outputs": [
    {
     "ename": "TypeError",
     "evalue": "checkArgs() missing 1 required positional argument: 'c'",
     "output_type": "error",
     "traceback": [
      "\u001b[1;31m---------------------------------------------------------------------------\u001b[0m",
      "\u001b[1;31mTypeError\u001b[0m                                 Traceback (most recent call last)",
      "\u001b[1;32m~\\AppData\\Local\\Temp\\ipykernel_1336\\624775701.py\u001b[0m in \u001b[0;36m<module>\u001b[1;34m\u001b[0m\n\u001b[1;32m----> 1\u001b[1;33m \u001b[0mcheckArgs\u001b[0m\u001b[1;33m(\u001b[0m\u001b[1;36m1\u001b[0m\u001b[1;33m,\u001b[0m\u001b[1;36m2\u001b[0m\u001b[1;33m)\u001b[0m\u001b[1;33m\u001b[0m\u001b[1;33m\u001b[0m\u001b[0m\n\u001b[0m",
      "\u001b[1;31mTypeError\u001b[0m: checkArgs() missing 1 required positional argument: 'c'"
     ]
    }
   ],
   "source": [
    "checkArgs(1,2) # we need to specify all the arguments"
   ]
  },
  {
   "cell_type": "code",
   "execution_count": 26,
   "id": "c093617c",
   "metadata": {},
   "outputs": [
    {
     "ename": "TypeError",
     "evalue": "checkArgs() takes 3 positional arguments but 5 were given",
     "output_type": "error",
     "traceback": [
      "\u001b[1;31m---------------------------------------------------------------------------\u001b[0m",
      "\u001b[1;31mTypeError\u001b[0m                                 Traceback (most recent call last)",
      "\u001b[1;32m~\\AppData\\Local\\Temp\\ipykernel_1336\\862463441.py\u001b[0m in \u001b[0;36m<module>\u001b[1;34m\u001b[0m\n\u001b[1;32m----> 1\u001b[1;33m \u001b[0mcheckArgs\u001b[0m\u001b[1;33m(\u001b[0m\u001b[1;36m3\u001b[0m\u001b[1;33m,\u001b[0m\u001b[1;36m4\u001b[0m\u001b[1;33m,\u001b[0m\u001b[1;36m5\u001b[0m\u001b[1;33m,\u001b[0m\u001b[1;36m6\u001b[0m\u001b[1;33m,\u001b[0m\u001b[1;36m8\u001b[0m\u001b[1;33m)\u001b[0m\u001b[1;33m\u001b[0m\u001b[1;33m\u001b[0m\u001b[0m\n\u001b[0m",
      "\u001b[1;31mTypeError\u001b[0m: checkArgs() takes 3 positional arguments but 5 were given"
     ]
    }
   ],
   "source": [
    "checkArgs(3,4,5,6,8) # accepts only 3 arguments i.e we need to supply only sufficient arguments"
   ]
  },
  {
   "cell_type": "markdown",
   "id": "b6807687",
   "metadata": {},
   "source": [
    "# order of arguments"
   ]
  },
  {
   "cell_type": "code",
   "execution_count": 27,
   "id": "454d30e7",
   "metadata": {},
   "outputs": [],
   "source": [
    "def f(a,b,c):\n",
    "    print(\"A is : \",a)\n",
    "    print(\"B is : \",b)\n",
    "    print(\"c is : \",c)"
   ]
  },
  {
   "cell_type": "code",
   "execution_count": 28,
   "id": "85924c6c",
   "metadata": {},
   "outputs": [
    {
     "name": "stdout",
     "output_type": "stream",
     "text": [
      "A is :  2\n",
      "B is :  3\n",
      "c is :  fun\n"
     ]
    }
   ],
   "source": [
    "f(2,3,\"fun\")"
   ]
  },
  {
   "cell_type": "code",
   "execution_count": 29,
   "id": "82297f9a",
   "metadata": {},
   "outputs": [
    {
     "name": "stdout",
     "output_type": "stream",
     "text": [
      "A is :  2\n",
      "B is :  fun\n",
      "c is :  3\n"
     ]
    }
   ],
   "source": [
    "f(2,\"fun\",3)"
   ]
  },
  {
   "cell_type": "code",
   "execution_count": 31,
   "id": "7979fae5",
   "metadata": {},
   "outputs": [
    {
     "name": "stdout",
     "output_type": "stream",
     "text": [
      "A is :  2\n",
      "B is :  4\n",
      "c is :  game\n"
     ]
    }
   ],
   "source": [
    "f(c=\"game\", a=2,b=4) # we can change while call time by assigning values to arguments"
   ]
  },
  {
   "cell_type": "code",
   "execution_count": 2,
   "id": "800e4291",
   "metadata": {},
   "outputs": [],
   "source": [
    "def myadd(a,b):\n",
    "    sumValue = a+b \n",
    "    return sumValue"
   ]
  },
  {
   "cell_type": "code",
   "execution_count": 3,
   "id": "dff42bc8",
   "metadata": {},
   "outputs": [
    {
     "name": "stdout",
     "output_type": "stream",
     "text": [
      "5\n"
     ]
    }
   ],
   "source": [
    "d=myadd(2,3)\n",
    "print(d)"
   ]
  },
  {
   "cell_type": "code",
   "execution_count": 4,
   "id": "75ac1797",
   "metadata": {},
   "outputs": [],
   "source": [
    "variableOutsideTheFunction = 3"
   ]
  },
  {
   "cell_type": "code",
   "execution_count": 5,
   "id": "d7b68536",
   "metadata": {},
   "outputs": [],
   "source": [
    "def g():\n",
    "    print(variableOutsideTheFunction)"
   ]
  },
  {
   "cell_type": "code",
   "execution_count": 6,
   "id": "7fa503fd",
   "metadata": {},
   "outputs": [
    {
     "name": "stdout",
     "output_type": "stream",
     "text": [
      "3\n"
     ]
    }
   ],
   "source": [
    "g()"
   ]
  },
  {
   "cell_type": "code",
   "execution_count": 12,
   "id": "6d280d81",
   "metadata": {},
   "outputs": [],
   "source": [
    "def h():\n",
    "    print(\"A\")\n",
    "    a = 3\n",
    "    b = 5\n",
    "    c = a+b\n",
    "    print(\"contains addition operation\")\n",
    "    return c\n",
    "    print(\"nothing\")"
   ]
  },
  {
   "cell_type": "code",
   "execution_count": 8,
   "id": "78834430",
   "metadata": {},
   "outputs": [
    {
     "name": "stdout",
     "output_type": "stream",
     "text": [
      "A\n",
      "contains addition operation\n"
     ]
    }
   ],
   "source": [
    "h()"
   ]
  },
  {
   "cell_type": "code",
   "execution_count": 13,
   "id": "cfb7c97c",
   "metadata": {},
   "outputs": [
    {
     "name": "stdout",
     "output_type": "stream",
     "text": [
      "A\n",
      "contains addition operation\n"
     ]
    },
    {
     "data": {
      "text/plain": [
       "8"
      ]
     },
     "execution_count": 13,
     "metadata": {},
     "output_type": "execute_result"
    }
   ],
   "source": [
    "h()"
   ]
  },
  {
   "cell_type": "code",
   "execution_count": 14,
   "id": "e29744a6",
   "metadata": {},
   "outputs": [],
   "source": [
    "def r():\n",
    "    a=5\n",
    "    b=7\n",
    "    d=\"hi\"\n",
    "    return a,b,d"
   ]
  },
  {
   "cell_type": "code",
   "execution_count": 15,
   "id": "5acc2569",
   "metadata": {},
   "outputs": [
    {
     "name": "stdout",
     "output_type": "stream",
     "text": [
      "5 7 hi\n"
     ]
    }
   ],
   "source": [
    "x,y,z = r()\n",
    "print(x,y,z)"
   ]
  },
  {
   "cell_type": "markdown",
   "id": "90ec465e",
   "metadata": {},
   "source": [
    " # handling Multiple arguments"
   ]
  },
  {
   "cell_type": "markdown",
   "id": "0fda3018",
   "metadata": {},
   "source": [
    "variable no of arguments"
   ]
  },
  {
   "cell_type": "code",
   "execution_count": 16,
   "id": "59085ee6",
   "metadata": {},
   "outputs": [],
   "source": [
    "def myaddUniversal(*args):\n",
    "    s = 0\n",
    "    for i in range (len(args)):\n",
    "        s+=args[i]\n",
    "    return s"
   ]
  },
  {
   "cell_type": "code",
   "execution_count": 18,
   "id": "83db0ab0",
   "metadata": {},
   "outputs": [
    {
     "data": {
      "text/plain": [
       "188"
      ]
     },
     "execution_count": 18,
     "metadata": {},
     "output_type": "execute_result"
    }
   ],
   "source": [
    "myaddUniversal(2,4,5,78,43,56)"
   ]
  },
  {
   "cell_type": "code",
   "execution_count": 19,
   "id": "872f0f61",
   "metadata": {},
   "outputs": [],
   "source": [
    "def printAllVariablesNamesAndValues(**args):\n",
    "    for x in args:\n",
    "        print(\"variable name is : \",x,\"And value is : \",args[x])"
   ]
  },
  {
   "cell_type": "code",
   "execution_count": 21,
   "id": "d9cc29a6",
   "metadata": {},
   "outputs": [
    {
     "name": "stdout",
     "output_type": "stream",
     "text": [
      "variable name is :  a And value is :  3\n",
      "variable name is :  b And value is :  4\n",
      "variable name is :  c And value is :  hi\n",
      "variable name is :  d And value is :  4.7\n"
     ]
    }
   ],
   "source": [
    "printAllVariablesNamesAndValues(a=3,b=4,c=\"hi\",d=4.7)"
   ]
  },
  {
   "cell_type": "code",
   "execution_count": 22,
   "id": "40b2557f",
   "metadata": {},
   "outputs": [],
   "source": [
    "def gg(s=4):\n",
    "    print(s)"
   ]
  },
  {
   "cell_type": "code",
   "execution_count": 23,
   "id": "683a63c4",
   "metadata": {},
   "outputs": [
    {
     "name": "stdout",
     "output_type": "stream",
     "text": [
      "4\n"
     ]
    }
   ],
   "source": [
    "gg()"
   ]
  },
  {
   "cell_type": "code",
   "execution_count": 24,
   "id": "b3d6b166",
   "metadata": {},
   "outputs": [
    {
     "name": "stdout",
     "output_type": "stream",
     "text": [
      "5\n"
     ]
    }
   ],
   "source": [
    "gg(5)"
   ]
  },
  {
   "cell_type": "code",
   "execution_count": 25,
   "id": "f3bd3e04",
   "metadata": {},
   "outputs": [
    {
     "name": "stdout",
     "output_type": "stream",
     "text": [
      "[-9, 3, 4]\n"
     ]
    }
   ],
   "source": [
    "L =[1,3,4]\n",
    "L2 = L\n",
    "L2[0] = -9\n",
    "print(L) # here L value also changes but default values never change"
   ]
  },
  {
   "cell_type": "code",
   "execution_count": 26,
   "id": "85c40d98",
   "metadata": {},
   "outputs": [],
   "source": [
    "def ff(L = [1,2]):\n",
    "    for i in L:\n",
    "        print(i)"
   ]
  },
  {
   "cell_type": "code",
   "execution_count": 27,
   "id": "34747c98",
   "metadata": {},
   "outputs": [
    {
     "name": "stdout",
     "output_type": "stream",
     "text": [
      "23\n",
      "34\n",
      "45\n"
     ]
    }
   ],
   "source": [
    "L2= [23,34,45]\n",
    "ff(L2)"
   ]
  },
  {
   "cell_type": "markdown",
   "id": "e293e25d",
   "metadata": {},
   "source": [
    "# modules usage from another python file "
   ]
  },
  {
   "cell_type": "code",
   "execution_count": 28,
   "id": "5e8654e8",
   "metadata": {},
   "outputs": [],
   "source": [
    "import sys\n",
    "sys.path.append('D:/myfuncs/')"
   ]
  },
  {
   "cell_type": "code",
   "execution_count": 29,
   "id": "c50679a2",
   "metadata": {},
   "outputs": [],
   "source": [
    "import My_Universal_Functions as ufs"
   ]
  },
  {
   "cell_type": "code",
   "execution_count": 31,
   "id": "3e82e771",
   "metadata": {},
   "outputs": [],
   "source": [
    "ufs.addAllNumerics??"
   ]
  },
  {
   "cell_type": "code",
   "execution_count": 32,
   "id": "db4daf68",
   "metadata": {},
   "outputs": [
    {
     "data": {
      "text/plain": [
       "25"
      ]
     },
     "execution_count": 32,
     "metadata": {},
     "output_type": "execute_result"
    }
   ],
   "source": [
    "ufs.addAllNumerics(3,4,5,6,7)"
   ]
  },
  {
   "cell_type": "markdown",
   "id": "1b26c85a",
   "metadata": {},
   "source": [
    "for importing only 1 function from a module "
   ]
  },
  {
   "cell_type": "code",
   "execution_count": 33,
   "id": "131613fc",
   "metadata": {},
   "outputs": [],
   "source": [
    "from My_Universal_Functions import addAllNumerics "
   ]
  },
  {
   "cell_type": "code",
   "execution_count": 35,
   "id": "268c2086",
   "metadata": {},
   "outputs": [
    {
     "data": {
      "text/plain": [
       "25"
      ]
     },
     "execution_count": 35,
     "metadata": {},
     "output_type": "execute_result"
    }
   ],
   "source": [
    "addAllNumerics(3,4,5,6,7)"
   ]
  },
  {
   "cell_type": "code",
   "execution_count": 36,
   "id": "fb29463e",
   "metadata": {},
   "outputs": [
    {
     "data": {
      "text/plain": [
       "'Python course'"
      ]
     },
     "execution_count": 36,
     "metadata": {},
     "output_type": "execute_result"
    }
   ],
   "source": [
    "ufs.myName"
   ]
  },
  {
   "cell_type": "markdown",
   "id": "b5db3291",
   "metadata": {},
   "source": [
    "# sorting list using functions"
   ]
  },
  {
   "cell_type": "code",
   "execution_count": 38,
   "id": "269ff5e9",
   "metadata": {},
   "outputs": [
    {
     "data": {
      "text/plain": [
       "'given a list where we need to make another list\\nwhich we need to arrange items in sorted order.\\n'"
      ]
     },
     "execution_count": 38,
     "metadata": {},
     "output_type": "execute_result"
    }
   ],
   "source": [
    "\"\"\"given a list where we need to make another list\n",
    "which we need to arrange items in sorted order.\n",
    "\"\"\"\n"
   ]
  },
  {
   "cell_type": "code",
   "execution_count": 57,
   "id": "77815bdd",
   "metadata": {},
   "outputs": [],
   "source": [
    "def findMin(L,startIndex):\n",
    "    m = L[startIndex]\n",
    "    idx = startIndex\n",
    "    for i in range(startIndex,len(L)):\n",
    "        x = L[i]\n",
    "        if x<m:\n",
    "            m = x\n",
    "            idx = i\n",
    "        else:\n",
    "            pass\n",
    "        i+=1\n",
    "    return m,idx"
   ]
  },
  {
   "cell_type": "code",
   "execution_count": 42,
   "id": "8683e163",
   "metadata": {},
   "outputs": [],
   "source": [
    "a,b = findMin([2,3,4,0,9])"
   ]
  },
  {
   "cell_type": "code",
   "execution_count": 43,
   "id": "565086ca",
   "metadata": {},
   "outputs": [
    {
     "name": "stdout",
     "output_type": "stream",
     "text": [
      "0 3\n"
     ]
    }
   ],
   "source": [
    "print(a,b)"
   ]
  },
  {
   "cell_type": "code",
   "execution_count": 47,
   "id": "a05f120e",
   "metadata": {},
   "outputs": [],
   "source": [
    "def swapValues(L,idx1,idx2):\n",
    "    temp = L[idx1]\n",
    "    L[idx1] = L[idx2]\n",
    "    L[idx2] = temp\n",
    "    return L"
   ]
  },
  {
   "cell_type": "code",
   "execution_count": 48,
   "id": "bf8c2378",
   "metadata": {},
   "outputs": [
    {
     "name": "stdout",
     "output_type": "stream",
     "text": [
      "[2, 7, 6, 3]\n"
     ]
    }
   ],
   "source": [
    "L = [2,3,6,7]\n",
    "L2 = swapValues(L,1,3)\n",
    "print(L2)"
   ]
  },
  {
   "cell_type": "code",
   "execution_count": 55,
   "id": "c5e38f78",
   "metadata": {},
   "outputs": [],
   "source": [
    "def checkIfNotNumeric2(L):\n",
    "    for x in L:\n",
    "        if not(isinstance (x,(int,float))):\n",
    "            return False\n",
    "    return True"
   ]
  },
  {
   "cell_type": "code",
   "execution_count": 59,
   "id": "c046609a",
   "metadata": {},
   "outputs": [],
   "source": [
    "def sortList(L):\n",
    "    if not(checkIfNotNumeric2(L)):\n",
    "        print(\"error : List does not contain numeric values\")\n",
    "        return\n",
    "    else:\n",
    "        c=0\n",
    "        for x in L:\n",
    "            m,idx = findMin(L,c)\n",
    "            L = swapValues(L,c,idx)\n",
    "            c+=1\n",
    "    return L\n",
    "        "
   ]
  },
  {
   "cell_type": "code",
   "execution_count": 60,
   "id": "8143bd5d",
   "metadata": {},
   "outputs": [
    {
     "name": "stdout",
     "output_type": "stream",
     "text": [
      "[-3, 0, 1, 2, 3, 34]\n"
     ]
    }
   ],
   "source": [
    "L2 = sortList([1,3,2,0,-3,34])\n",
    "print(L2)"
   ]
  },
  {
   "cell_type": "markdown",
   "id": "7fbb5b25",
   "metadata": {},
   "source": [
    "# strings\n"
   ]
  },
  {
   "cell_type": "code",
   "execution_count": 1,
   "id": "b9cf8af5",
   "metadata": {},
   "outputs": [],
   "source": [
    "s = \"python is a good langguage\"\n",
    "t = 'its good for data science'\n"
   ]
  },
  {
   "cell_type": "code",
   "execution_count": 2,
   "id": "fe89e982",
   "metadata": {},
   "outputs": [
    {
     "data": {
      "text/plain": [
       "str"
      ]
     },
     "execution_count": 2,
     "metadata": {},
     "output_type": "execute_result"
    }
   ],
   "source": [
    "type(s)"
   ]
  },
  {
   "cell_type": "code",
   "execution_count": 3,
   "id": "e43df86d",
   "metadata": {},
   "outputs": [
    {
     "name": "stdout",
     "output_type": "stream",
     "text": [
      "python is a good langguageits good for data science\n"
     ]
    }
   ],
   "source": [
    "print(s+t)"
   ]
  },
  {
   "cell_type": "code",
   "execution_count": 7,
   "id": "4917dc42",
   "metadata": {},
   "outputs": [
    {
     "name": "stdout",
     "output_type": "stream",
     "text": [
      "python is a good langguage , its good for data science\n"
     ]
    }
   ],
   "source": [
    "v = s+\" , \"+ t\n",
    "print(v)"
   ]
  },
  {
   "cell_type": "code",
   "execution_count": 8,
   "id": "12b86ebd",
   "metadata": {},
   "outputs": [
    {
     "name": "stdout",
     "output_type": "stream",
     "text": [
      "the price of this book is : 12\n"
     ]
    }
   ],
   "source": [
    "price = 12\n",
    "s = \"the price of this book \"\n",
    "v = s + \"is : \" + str(price) # here 12 will become the string of characters as we cannot concatinate int with str directly\n",
    "print(v)"
   ]
  },
  {
   "cell_type": "code",
   "execution_count": 1,
   "id": "28913270",
   "metadata": {},
   "outputs": [],
   "source": [
    "a = \"\"\"this is line 1\n",
    "this is line 2\n",
    "this is last line\"\"\""
   ]
  },
  {
   "cell_type": "code",
   "execution_count": 2,
   "id": "902008c4",
   "metadata": {},
   "outputs": [
    {
     "name": "stdout",
     "output_type": "stream",
     "text": [
      "this is line 1\n",
      "this is line 2\n",
      "this is last line\n"
     ]
    }
   ],
   "source": [
    "print(a)"
   ]
  },
  {
   "cell_type": "code",
   "execution_count": 3,
   "id": "1af74507",
   "metadata": {},
   "outputs": [
    {
     "name": "stdout",
     "output_type": "stream",
     "text": [
      "r\n"
     ]
    }
   ],
   "source": [
    "s = \"how are you and who are you?\"\n",
    "print(s[5])"
   ]
  },
  {
   "cell_type": "code",
   "execution_count": 5,
   "id": "85fbc5d7",
   "metadata": {},
   "outputs": [
    {
     "data": {
      "text/plain": [
       "str"
      ]
     },
     "execution_count": 5,
     "metadata": {},
     "output_type": "execute_result"
    }
   ],
   "source": [
    "type(s[5])"
   ]
  },
  {
   "cell_type": "code",
   "execution_count": 6,
   "id": "1d8ccf07",
   "metadata": {},
   "outputs": [
    {
     "data": {
      "text/plain": [
       "' are '"
      ]
     },
     "execution_count": 6,
     "metadata": {},
     "output_type": "execute_result"
    }
   ],
   "source": [
    "s[3:8]"
   ]
  },
  {
   "cell_type": "code",
   "execution_count": 7,
   "id": "2fcda1e8",
   "metadata": {},
   "outputs": [
    {
     "data": {
      "text/plain": [
       "'?'"
      ]
     },
     "execution_count": 7,
     "metadata": {},
     "output_type": "execute_result"
    }
   ],
   "source": [
    "s[-1]"
   ]
  },
  {
   "cell_type": "code",
   "execution_count": 10,
   "id": "6f08bb65",
   "metadata": {},
   "outputs": [
    {
     "data": {
      "text/plain": [
       "'hwaeyu'"
      ]
     },
     "execution_count": 10,
     "metadata": {},
     "output_type": "execute_result"
    }
   ],
   "source": [
    "s[0:12:2] # s[start:end:step]"
   ]
  },
  {
   "cell_type": "code",
   "execution_count": 11,
   "id": "92364f80",
   "metadata": {},
   "outputs": [
    {
     "data": {
      "text/plain": [
       "'?uoy era ohw dna uoy era woh'"
      ]
     },
     "execution_count": 11,
     "metadata": {},
     "output_type": "execute_result"
    }
   ],
   "source": [
    "s[::-1] # gives reverse string\n"
   ]
  },
  {
   "cell_type": "markdown",
   "id": "bf11a729",
   "metadata": {},
   "source": [
    " # strip()"
   ]
  },
  {
   "cell_type": "code",
   "execution_count": 12,
   "id": "332f3f67",
   "metadata": {},
   "outputs": [
    {
     "name": "stdout",
     "output_type": "stream",
     "text": [
      "abc  def        jdhad\n"
     ]
    }
   ],
   "source": [
    "a = \"    abc  def        jdhad\"\n",
    "b = a.strip()\n",
    "print(b)"
   ]
  },
  {
   "cell_type": "markdown",
   "id": "89999db3",
   "metadata": {},
   "source": [
    "# upper n lower"
   ]
  },
  {
   "cell_type": "code",
   "execution_count": 13,
   "id": "c9e1dbf1",
   "metadata": {},
   "outputs": [
    {
     "name": "stdout",
     "output_type": "stream",
     "text": [
      "abcd nvkfhyf\n"
     ]
    }
   ],
   "source": [
    "a = \"ABCD nvkfhyf\"\n",
    "b = a.lower()\n",
    "print(b)"
   ]
  },
  {
   "cell_type": "code",
   "execution_count": 14,
   "id": "894ba3f9",
   "metadata": {},
   "outputs": [
    {
     "name": "stdout",
     "output_type": "stream",
     "text": [
      "ABCD NVKFHYF\n"
     ]
    }
   ],
   "source": [
    "a = \"ABCD nvkfhyf\"\n",
    "b = a.upper()\n",
    "print(b)"
   ]
  },
  {
   "cell_type": "markdown",
   "id": "49288d58",
   "metadata": {},
   "source": [
    "# replace() and split()"
   ]
  },
  {
   "cell_type": "code",
   "execution_count": 15,
   "id": "c1dfa5cd",
   "metadata": {},
   "outputs": [
    {
     "name": "stdout",
     "output_type": "stream",
     "text": [
      "abcd nvkfhyf\n"
     ]
    }
   ],
   "source": [
    "d = a.replace(\"ABCD\",\"abcd\")\n",
    "print(d)"
   ]
  },
  {
   "cell_type": "code",
   "execution_count": 18,
   "id": "a147ed45",
   "metadata": {},
   "outputs": [
    {
     "name": "stdout",
     "output_type": "stream",
     "text": [
      "['abc', 'def', 'ghke123']\n"
     ]
    }
   ],
   "source": [
    "a = \"abc;def;ghke123\"\n",
    "L = a.split(\";\")\n",
    "print(L)"
   ]
  },
  {
   "cell_type": "code",
   "execution_count": 20,
   "id": "dbecc188",
   "metadata": {},
   "outputs": [
    {
     "data": {
      "text/plain": [
       "True"
      ]
     },
     "execution_count": 20,
     "metadata": {},
     "output_type": "execute_result"
    }
   ],
   "source": [
    "\"abc\" in \"kdsabcjefhsyTAatabfjkdsijfd\""
   ]
  },
  {
   "cell_type": "code",
   "execution_count": 21,
   "id": "8a2b8905",
   "metadata": {},
   "outputs": [
    {
     "data": {
      "text/plain": [
       "True"
      ]
     },
     "execution_count": 21,
     "metadata": {},
     "output_type": "execute_result"
    }
   ],
   "source": [
    "\"abc\" == \"abc\" # can compare"
   ]
  },
  {
   "cell_type": "code",
   "execution_count": 22,
   "id": "cdb94975",
   "metadata": {},
   "outputs": [
    {
     "data": {
      "text/plain": [
       "True"
      ]
     },
     "execution_count": 22,
     "metadata": {},
     "output_type": "execute_result"
    }
   ],
   "source": [
    "\"abcdef\" < \"def\" # comparison is based on alphabetical order"
   ]
  },
  {
   "cell_type": "code",
   "execution_count": 23,
   "id": "8b8224b3",
   "metadata": {},
   "outputs": [
    {
     "name": "stdout",
     "output_type": "stream",
     "text": [
      "we are learning \"string\" here\n"
     ]
    }
   ],
   "source": [
    "print(\"we are learning \\\"string\\\" here\") # this is used when we want to use \"\" inside a string"
   ]
  },
  {
   "cell_type": "code",
   "execution_count": 24,
   "id": "c7da30ae",
   "metadata": {},
   "outputs": [
    {
     "name": "stdout",
     "output_type": "stream",
     "text": [
      "we are learning \"string\" here\n"
     ]
    }
   ],
   "source": [
    "print('we are learning \"string\" here') # this is used when we want to use \"\" inside a string"
   ]
  },
  {
   "cell_type": "code",
   "execution_count": 25,
   "id": "6af89e9a",
   "metadata": {},
   "outputs": [
    {
     "name": "stdout",
     "output_type": "stream",
     "text": [
      "c:\n",
      "ame\\drive\n"
     ]
    }
   ],
   "source": [
    "print(\"c:\\name\\drive\") #\\n treated as next line"
   ]
  },
  {
   "cell_type": "code",
   "execution_count": 27,
   "id": "f9846703",
   "metadata": {},
   "outputs": [
    {
     "name": "stdout",
     "output_type": "stream",
     "text": [
      "c:\\name\\drive\n"
     ]
    }
   ],
   "source": [
    "print(r\"c:\\name\\drive\") # r is used to print raw string"
   ]
  },
  {
   "cell_type": "code",
   "execution_count": null,
   "id": "978dead4",
   "metadata": {},
   "outputs": [],
   "source": []
  }
 ],
 "metadata": {
  "kernelspec": {
   "display_name": "Python 3 (ipykernel)",
   "language": "python",
   "name": "python3"
  },
  "language_info": {
   "codemirror_mode": {
    "name": "ipython",
    "version": 3
   },
   "file_extension": ".py",
   "mimetype": "text/x-python",
   "name": "python",
   "nbconvert_exporter": "python",
   "pygments_lexer": "ipython3",
   "version": "3.9.13"
  }
 },
 "nbformat": 4,
 "nbformat_minor": 5
}
